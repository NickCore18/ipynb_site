{
  "nbformat": 4,
  "nbformat_minor": 0,
  "metadata": {
    "colab": {
      "provenance": []
    },
    "kernelspec": {
      "name": "python3",
      "display_name": "Python 3"
    },
    "language_info": {
      "name": "python"
    }
  },
  "cells": [
    {
      "cell_type": "markdown",
      "source": [
        "**Import Libraries and Data Exploration**\n"
      ],
      "metadata": {
        "id": "jYAd_FY9G6S_"
      }
    },
    {
      "cell_type": "code",
      "execution_count": null,
      "metadata": {
        "id": "jAvLWFLbG5Tj"
      },
      "outputs": [],
      "source": [
        "import pandas as pd\n",
        "import numpy as np\n",
        "import matplotlib.pyplot as plt\n",
        "from sklearn.model_selection import train_test_split\n",
        "from sklearn.linear_model import LinearRegression\n",
        "import warnings\n",
        "warnings.filterwarnings('ignore')\n",
        "\n",
        "data = pd.read_csv('Lesson_4_student_grades_dataset 2.csv')\n",
        "print(data.head())"
      ]
    },
    {
      "cell_type": "markdown",
      "source": [
        "**Data Pre-Processing**"
      ],
      "metadata": {
        "id": "-SyMmalaHGG4"
      }
    },
    {
      "cell_type": "code",
      "source": [
        "print(data.isnull().sum())"
      ],
      "metadata": {
        "id": "inIVHoy4HG78"
      },
      "execution_count": null,
      "outputs": []
    },
    {
      "cell_type": "markdown",
      "source": [
        "**Train-Test Split**"
      ],
      "metadata": {
        "id": "WwiaftDbIopA"
      }
    },
    {
      "cell_type": "code",
      "source": [
        "x = data.drop('Grades', axis=1)\n",
        "y = data[['Grades']]\n",
        "\n",
        "x_train, x_test, y_train, y_test = train_test_split(x,y, test_size = 0.2, random_state = 42)\n",
        "\n",
        "model = LinearRegression()"
      ],
      "metadata": {
        "id": "QabwxyolIo28"
      },
      "execution_count": null,
      "outputs": []
    },
    {
      "cell_type": "markdown",
      "source": [
        "**Linear Regression**"
      ],
      "metadata": {
        "id": "KavKnYBBIpm-"
      }
    },
    {
      "cell_type": "code",
      "source": [
        "x = data[['Attendance Percentage']]\n",
        "y = data[['Grades']]\n",
        "\n",
        "model = LinearRegression()\n",
        "model.fit(x,y)\n",
        "\n",
        "slope = model.coef_[0]\n",
        "intercept = model.intercept_\n",
        "print(\"Slope\", slope)\n",
        "print(\"Intercept\", intercept)\n",
        "\n",
        "plt.figure(facecolor = 'pink')\n",
        "plt.scatter(x,y)\n",
        "plt.plot(x, model.predict(x), color = 'red', linewidth = 5)\n",
        "plt.xlabel('Independent Variable', color = 'hotpink')\n",
        "plt.ylabel('Dependent Variable', color = 'hotpink')\n",
        "plt.title('Linear Regression')\n",
        "plt.show()"
      ],
      "metadata": {
        "id": "aGIDn7mIQPF7"
      },
      "execution_count": null,
      "outputs": []
    },
    {
      "cell_type": "code",
      "source": [
        "x = data[['Previous_Exam_Scores']]\n",
        "y = data[['Grades']]\n",
        "\n",
        "model = LinearRegression()\n",
        "model.fit(x,y)\n",
        "\n",
        "slope = model.coef_[0]\n",
        "intercept = model.intercept_\n",
        "print(\"Slope\", slope)\n",
        "print(\"Intercept\", intercept)\n",
        "\n",
        "plt.figure(facecolor = 'pink')\n",
        "plt.scatter(x,y)\n",
        "plt.plot(x, model.predict(x), color = 'red', linewidth = 5)\n",
        "plt.xlabel('Independent Variable', color = 'hotpink')\n",
        "plt.ylabel('Dependent Variable', color = 'hotpink')\n",
        "plt.title('Linear Regression')\n",
        "plt.show()"
      ],
      "metadata": {
        "id": "OyfM6Zagozz9"
      },
      "execution_count": null,
      "outputs": []
    },
    {
      "cell_type": "code",
      "source": [
        "x = data[['Extracurricular_Activities']]\n",
        "y = data[['Grades']]\n",
        "\n",
        "model = LinearRegression()\n",
        "model.fit(x,y)\n",
        "\n",
        "slope = model.coef_[0]\n",
        "intercept = model.intercept_\n",
        "print(\"Slope\", slope)\n",
        "print(\"Intercept\", intercept)\n",
        "\n",
        "plt.figure(facecolor = 'pink')\n",
        "plt.scatter(x,y)\n",
        "plt.plot(x, model.predict(x), color = 'red', linewidth = 5)\n",
        "plt.xlabel('Independent Variable', color = 'hotpink')\n",
        "plt.ylabel('Dependent Variable', color = 'hotpink')\n",
        "plt.title('Linear Regression')\n",
        "plt.show()"
      ],
      "metadata": {
        "id": "YUuHB6GVo3qV"
      },
      "execution_count": null,
      "outputs": []
    },
    {
      "cell_type": "code",
      "source": [
        "x = data[['Travel_Time_to_School']]\n",
        "y = data[['Grades']]\n",
        "\n",
        "model = LinearRegression()\n",
        "model.fit(x,y)\n",
        "\n",
        "slope = model.coef_[0]\n",
        "intercept = model.intercept_\n",
        "print(\"Slope\", slope)\n",
        "print(\"Intercept\", intercept)\n",
        "\n",
        "plt.figure(facecolor = 'pink')\n",
        "plt.scatter(x,y)\n",
        "plt.plot(x, model.predict(x), color = 'red', linewidth = 5)\n",
        "plt.xlabel('Independent Variable', color = 'hotpink')\n",
        "plt.ylabel('Dependent Variable', color = 'hotpink')\n",
        "plt.title('Linear Regression')\n",
        "plt.show()"
      ],
      "metadata": {
        "id": "-KkyH7Dno7X2"
      },
      "execution_count": null,
      "outputs": []
    },
    {
      "cell_type": "code",
      "source": [
        "x = data[['Hours_of_Study']]\n",
        "y = data[['Grades']]\n",
        "\n",
        "model = LinearRegression()\n",
        "model.fit(x,y)\n",
        "\n",
        "slope = model.coef_[0]\n",
        "intercept = model.intercept_\n",
        "print(\"Slope\", slope)\n",
        "print(\"Intercept\", intercept)\n",
        "\n",
        "plt.figure(figsize=(20,12),facecolor='pink')\n",
        "plt.scatter(x,y, facecolor='hotpink')\n",
        "plt.plot(x,model.predict(x),color='red')\n",
        "plt.xlabel('Independent Variable',fontweight='bold')\n",
        "plt.ylabel('Dependent Variable',fontweight='bold')\n",
        "plt.title('Linear Regression',fontsize=16,fontweight='extra bold')\n",
        "\n",
        "plt.show()"
      ],
      "metadata": {
        "id": "N_EcHWY2omvS"
      },
      "execution_count": null,
      "outputs": []
    },
    {
      "cell_type": "markdown",
      "source": [
        "**Model Training**"
      ],
      "metadata": {
        "id": "RJ2glH5ApIBe"
      }
    },
    {
      "cell_type": "code",
      "source": [
        "model.fit(x_train, y_train)"
      ],
      "metadata": {
        "id": "RQCO4eHNpIR0"
      },
      "execution_count": null,
      "outputs": []
    },
    {
      "cell_type": "markdown",
      "source": [
        "**Analysis and Prediction**"
      ],
      "metadata": {
        "id": "wakLpqkOpM2G"
      }
    },
    {
      "cell_type": "code",
      "source": [
        "x = data[['Hours_of_Study']]\n",
        "y = data[['Grades']]\n",
        "\n",
        "model = LinearRegression()\n",
        "model.fit(x,y)\n",
        "\n",
        "slope = model.coef_[0]\n",
        "intercept = model.intercept_\n",
        "print(\"Slope\", slope)\n",
        "print(\"Intercept\", intercept)\n",
        "\n",
        "plt.figure(facecolor = 'pink')\n",
        "plt.scatter(x,y)\n",
        "plt.plot(x, model.predict(x), color = 'red', linewidth = 5)\n",
        "plt.xlabel('Independent Variable', color = 'hotpink')\n",
        "plt.ylabel('Dependent Variable', color = 'hotpink')\n",
        "plt.title('Linear Regression')\n",
        "plt.show()\n",
        "\n",
        "new_x = [[np.random.randint(100,200)]]\n",
        "predicted_y = model.predict(new_x)\n",
        "print(\"New X\", new_x)\n",
        "print(\"Predicted Y for new X\", predicted_y)"
      ],
      "metadata": {
        "id": "vwcAdSU7pjVe"
      },
      "execution_count": null,
      "outputs": []
    },
    {
      "cell_type": "code",
      "source": [
        "x = data[['Travel_Time_to_School']]\n",
        "y = data[['Grades']]\n",
        "\n",
        "model = LinearRegression()\n",
        "model.fit(x,y)\n",
        "\n",
        "slope = model.coef_[0]\n",
        "intercept = model.intercept_\n",
        "print(\"Slope\", slope)\n",
        "print(\"Intercept\", intercept)\n",
        "\n",
        "plt.figure(facecolor = 'pink')\n",
        "plt.scatter(x,y)\n",
        "plt.plot(x, model.predict(x), color = 'red', linewidth = 5)\n",
        "plt.xlabel('Independent Variable)', color = 'hotpink')\n",
        "plt.ylabel('Dependent Variable', color = 'hotpink')\n",
        "plt.title('Linear Regression')\n",
        "plt.show()\n",
        "\n",
        "new_x = [[np.random.randint(100,200)]]\n",
        "predicted_y = model.predict(new_x)\n",
        "print(\"New X\", new_x)\n",
        "print(\"Predicted Y for new X\", predicted_y)"
      ],
      "metadata": {
        "id": "sFN6Zd1Ipt7H"
      },
      "execution_count": null,
      "outputs": []
    },
    {
      "cell_type": "code",
      "source": [
        "x = data[['Extracurricular_Activities']]\n",
        "y = data[['Grades']]\n",
        "\n",
        "model = LinearRegression()\n",
        "model.fit(x,y)\n",
        "\n",
        "slope = model.coef_[0]\n",
        "intercept = model.intercept_\n",
        "print(\"Slope\", slope)\n",
        "print(\"Intercept\", intercept)\n",
        "\n",
        "plt.figure(facecolor = 'pink')\n",
        "plt.scatter(x,y)\n",
        "plt.plot(x, model.predict(x), color = 'red', linewidth = 5)\n",
        "plt.xlabel('Independent Variable', color = 'hotpink')\n",
        "plt.ylabel('Dependent Variable', color = 'hotpink')\n",
        "plt.title('Linear Regression')\n",
        "plt.show()\n",
        "\n",
        "new_x = [[np.random.randint(100,200)]]\n",
        "predicted_y = model.predict(new_x)\n",
        "print(\"New X\", new_x)\n",
        "print(\"Predicted Y for new X\", predicted_y)"
      ],
      "metadata": {
        "id": "1OfdGm8apx-1"
      },
      "execution_count": null,
      "outputs": []
    },
    {
      "cell_type": "code",
      "source": [
        "x = data[['Previous_Exam_Scores']]\n",
        "y = data[['Grades']]\n",
        "\n",
        "model = LinearRegression()\n",
        "model.fit(x,y)\n",
        "\n",
        "slope = model.coef_[0]\n",
        "intercept = model.intercept_\n",
        "print(\"Slope\", slope)\n",
        "print(\"Intercept\", intercept)\n",
        "\n",
        "plt.figure(facecolor = 'pink')\n",
        "plt.scatter(x,y)\n",
        "plt.plot(x, model.predict(x), color = 'red', linewidth = 5)\n",
        "plt.xlabel('Independent Variable', color = 'hotpink')\n",
        "plt.ylabel('Dependent Variable', color = 'hotpink')\n",
        "plt.title('Linear Regression')\n",
        "plt.show()\n",
        "\n",
        "new_x = [[np.random.randint(100,200)]]\n",
        "predicted_y = model.predict(new_x)\n",
        "print(\"New X\", new_x)\n",
        "print(\"Predicted Y for new X\", predicted_y)"
      ],
      "metadata": {
        "id": "toIQdC0dp3PF"
      },
      "execution_count": null,
      "outputs": []
    },
    {
      "cell_type": "code",
      "source": [
        "x = data[['Attendance_Percentage']]\n",
        "y = data[['Grades']]\n",
        "\n",
        "model = LinearRegression()\n",
        "model.fit(x,y)\n",
        "\n",
        "slope = model.coef_[0]\n",
        "intercept = model.intercept_\n",
        "print(\"Slope\", slope)\n",
        "print(\"Intercept\", intercept)\n",
        "\n",
        "plt.figure(facecolor = 'pink')\n",
        "plt.scatter(x,y)\n",
        "plt.plot(x, model.predict(x), color = 'red', linewidth = 5)\n",
        "plt.xlabel('Independent Variable', color = 'hotpink')\n",
        "plt.ylabel('Dependent Variable', color = 'hotpink')\n",
        "plt.title('Linear Regression')\n",
        "plt.show()\n",
        "\n",
        "new_x = [[np.random.randint(100,200)]]\n",
        "predicted_y = model.predict(new_x)\n",
        "print(\"New X\", new_x)\n",
        "print(\"Predicted Y for new X\", predicted_y)"
      ],
      "metadata": {
        "id": "LNEbuRh3p8dU"
      },
      "execution_count": null,
      "outputs": []
    },
    {
      "cell_type": "markdown",
      "source": [
        "**1. Data Exploration:**\n",
        "Each dataset feature influences grades through computation for predictions. Some features correlate more strongly with the outcome, like study hours and previous exam scores, while others, such as attendance and travel time, may have varied impacts. Extracurricular activities typically do not significantly affect grades.\n",
        "\n",
        "\n",
        "---\n",
        "\n",
        "\n",
        "**2. Data Preprocessing:**\n",
        "Standardizing and normalizing data enhances accessibility for analysis while mitigating unwanted influences within the dataset.\n",
        "\n",
        "\n",
        "---\n",
        "\n",
        "\n",
        "**3. Train-Test Split:**\n",
        "Train-test split is a technique used to divide a dataset into two subsets: one for training the model and the other for testing its performance.\n",
        "\n",
        "\n",
        "---\n",
        "\n",
        "\n",
        "**4. Linear Regression Model:**\n",
        "Creating a linear regression model involves importing libraries, loading and visualizing data, preparing it for modeling, training the model, obtaining coefficients to understand feature relationships, and finally, using the model to make predictions. Coefficients indicate the strength and direction of correlations: higher coefficients mean stronger relationships, while lower ones suggest weaker ones. Linear regression simplifies complex data relationships, aiding predictive modeling and data analysis.\n",
        "\n",
        "\n",
        "---\n",
        "\n",
        "\n",
        "**5. Model Training:**\n",
        "Model training is the process of teaching a machine learning model to recognize patterns and relationships in data.\n",
        "\n",
        "\n",
        "---\n",
        "\n",
        "\n",
        "**6. Predictions and Evaluation:**\n",
        "Predictions leverage patterns learned during training to foresee outcomes on new data. Evaluation compares these predictions with actual outcomes, gauging model performance.\n",
        "\n",
        "\n",
        "---\n",
        "\n",
        "\n",
        "**7. Feature Importance Analysis:**\n",
        "Each feature exhibits unique relationships with the dependent variable. Analyzing them is crucial to identify influential features impacting the dependent variable significantly.\n",
        "\n",
        "\n",
        "---\n",
        "\n",
        "\n",
        "**8. Discussion:**\n",
        "Among the features examined, previous exam scores exhibit the strongest influence on student grades, evidenced by its more linear graph compared to others.\n",
        "\n",
        "\n",
        "---\n",
        "\n",
        "\n",
        "**9. Scenario Extension:**\n",
        "Understanding a student's miscellaneous activities and their access to educational resources may provide valuable insights into factors impacting their academic performance.\n",
        "\n",
        "\n",
        "---\n",
        "\n",
        "\n",
        "**10. Reflection:**\n",
        "Indeed, while the concept holds promise for real-world applications, further refinement and inclusion of detailed features would enhance its utility and effectiveness in practical settings.\n",
        "\n",
        "\n",
        "---\n",
        "\n"
      ],
      "metadata": {
        "id": "WDw4RDJsqOql"
      }
    }
  ]
}