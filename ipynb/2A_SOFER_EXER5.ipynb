{
  "nbformat": 4,
  "nbformat_minor": 0,
  "metadata": {
    "colab": {
      "provenance": []
    },
    "kernelspec": {
      "name": "python3",
      "display_name": "Python 3"
    },
    "language_info": {
      "name": "python"
    }
  },
  "cells": [
    {
      "cell_type": "markdown",
      "source": [
        "1. IMPORT LIBRARIES"
      ],
      "metadata": {
        "id": "7QePXqn8q2kE"
      }
    },
    {
      "cell_type": "code",
      "source": [
        "import pandas as pd\n",
        "import numpy as np\n",
        "import matplotlib.pyplot as plt\n",
        "from sklearn.model_selection import train_test_split\n",
        "from sklearn.linear_model import LogisticRegression\n",
        "from sklearn.metrics import accuracy_score, confusion_matrix, classification_report\n",
        "from sklearn.preprocessing import StandardScaler\n",
        "import warnings\n",
        "\n",
        "warnings.filterwarnings('ignore')\n",
        "\n",
        "data = pd.read_csv('BankCustomerData.csv')\n",
        "print(data.head())"
      ],
      "metadata": {
        "id": "oxvGauYeq2r8",
        "colab": {
          "base_uri": "https://localhost:8080/"
        },
        "outputId": "5d150045-3a15-4ed4-d412-cd413959faae"
      },
      "execution_count": null,
      "outputs": [
        {
          "output_type": "stream",
          "name": "stdout",
          "text": [
            "   age           job  marital  education default  balance housing loan  \\\n",
            "0   58    management  married   tertiary      no     2143     yes   no   \n",
            "1   44    technician   single  secondary      no       29     yes   no   \n",
            "2   33  entrepreneur  married  secondary      no        2     yes  yes   \n",
            "3   47   blue-collar  married    unknown      no     1506     yes   no   \n",
            "4   33       unknown   single    unknown      no        1      no   no   \n",
            "\n",
            "   contact  day month  duration  campaign  pdays  previous poutcome  \\\n",
            "0  unknown    5   may       261         1     -1         0  unknown   \n",
            "1  unknown    5   may       151         1     -1         0  unknown   \n",
            "2  unknown    5   may        76         1     -1         0  unknown   \n",
            "3  unknown    5   may        92         1     -1         0  unknown   \n",
            "4  unknown    5   may       198         1     -1         0  unknown   \n",
            "\n",
            "  term_deposit  \n",
            "0           no  \n",
            "1           no  \n",
            "2           no  \n",
            "3           no  \n",
            "4           no  \n"
          ]
        }
      ]
    },
    {
      "cell_type": "markdown",
      "source": [
        "2. CONVERT CATEGORICAL VARIABLE"
      ],
      "metadata": {
        "id": "dXOFCXYIq20x"
      }
    },
    {
      "cell_type": "code",
      "source": [
        "data_dummies = pd.get_dummies(data, drop_first=True)"
      ],
      "metadata": {
        "id": "2BuXG2WQq29G"
      },
      "execution_count": null,
      "outputs": []
    },
    {
      "cell_type": "markdown",
      "source": [
        "3. TARGET VARIABLE"
      ],
      "metadata": {
        "id": "ALAa4VMpq3Fh"
      }
    },
    {
      "cell_type": "code",
      "source": [
        "data_dummies['subscribe'] = (data['age']>18).astype(bool)"
      ],
      "metadata": {
        "id": "tz89me3Uq3NL"
      },
      "execution_count": null,
      "outputs": []
    },
    {
      "cell_type": "markdown",
      "source": [
        "4. SELECT FEATURES AND TARGET VARIABLE"
      ],
      "metadata": {
        "id": "Tvuuaz6Eq3VF"
      }
    },
    {
      "cell_type": "code",
      "source": [
        "x = data_dummies.drop(['age','subscribe'],axis=1)\n",
        "y = data_dummies['subscribe']"
      ],
      "metadata": {
        "id": "_taICoj5q3cq"
      },
      "execution_count": null,
      "outputs": []
    },
    {
      "cell_type": "markdown",
      "source": [
        "5. SPLIT DATA"
      ],
      "metadata": {
        "id": "tzR6eP0Jq3kN"
      }
    },
    {
      "cell_type": "code",
      "source": [
        "X_train, X_test, Y_train, Y_test = train_test_split(x, y, test_size=0.2, random_state=69)"
      ],
      "metadata": {
        "id": "KYMBAgpjq3sx"
      },
      "execution_count": null,
      "outputs": []
    },
    {
      "cell_type": "markdown",
      "source": [
        "6. STANDARDIZED DATA"
      ],
      "metadata": {
        "id": "_QqcE5Zeq30u"
      }
    },
    {
      "cell_type": "code",
      "source": [
        "scaler = StandardScaler()\n",
        "X_train_scaled = scaler.fit_transform(X_train)\n",
        "X_test_scaled = scaler.fit_transform(X_test)"
      ],
      "metadata": {
        "id": "wqHwLssNq3-B"
      },
      "execution_count": null,
      "outputs": []
    },
    {
      "cell_type": "markdown",
      "source": [
        "7. LOGISTIC REGRESSION"
      ],
      "metadata": {
        "id": "YL4Hdpx8q4Fp"
      }
    },
    {
      "cell_type": "code",
      "source": [
        "model = LogisticRegression()\n",
        "model.fit(X_train_scaled, Y_train)"
      ],
      "metadata": {
        "colab": {
          "base_uri": "https://localhost:8080/",
          "height": 75
        },
        "id": "4ck8uOduq4Nx",
        "outputId": "8db00823-3882-44e5-b4c8-750722462292"
      },
      "execution_count": null,
      "outputs": [
        {
          "output_type": "execute_result",
          "data": {
            "text/plain": [
              "LogisticRegression()"
            ],
            "text/html": [
              "<style>#sk-container-id-8 {color: black;background-color: white;}#sk-container-id-8 pre{padding: 0;}#sk-container-id-8 div.sk-toggleable {background-color: white;}#sk-container-id-8 label.sk-toggleable__label {cursor: pointer;display: block;width: 100%;margin-bottom: 0;padding: 0.3em;box-sizing: border-box;text-align: center;}#sk-container-id-8 label.sk-toggleable__label-arrow:before {content: \"▸\";float: left;margin-right: 0.25em;color: #696969;}#sk-container-id-8 label.sk-toggleable__label-arrow:hover:before {color: black;}#sk-container-id-8 div.sk-estimator:hover label.sk-toggleable__label-arrow:before {color: black;}#sk-container-id-8 div.sk-toggleable__content {max-height: 0;max-width: 0;overflow: hidden;text-align: left;background-color: #f0f8ff;}#sk-container-id-8 div.sk-toggleable__content pre {margin: 0.2em;color: black;border-radius: 0.25em;background-color: #f0f8ff;}#sk-container-id-8 input.sk-toggleable__control:checked~div.sk-toggleable__content {max-height: 200px;max-width: 100%;overflow: auto;}#sk-container-id-8 input.sk-toggleable__control:checked~label.sk-toggleable__label-arrow:before {content: \"▾\";}#sk-container-id-8 div.sk-estimator input.sk-toggleable__control:checked~label.sk-toggleable__label {background-color: #d4ebff;}#sk-container-id-8 div.sk-label input.sk-toggleable__control:checked~label.sk-toggleable__label {background-color: #d4ebff;}#sk-container-id-8 input.sk-hidden--visually {border: 0;clip: rect(1px 1px 1px 1px);clip: rect(1px, 1px, 1px, 1px);height: 1px;margin: -1px;overflow: hidden;padding: 0;position: absolute;width: 1px;}#sk-container-id-8 div.sk-estimator {font-family: monospace;background-color: #f0f8ff;border: 1px dotted black;border-radius: 0.25em;box-sizing: border-box;margin-bottom: 0.5em;}#sk-container-id-8 div.sk-estimator:hover {background-color: #d4ebff;}#sk-container-id-8 div.sk-parallel-item::after {content: \"\";width: 100%;border-bottom: 1px solid gray;flex-grow: 1;}#sk-container-id-8 div.sk-label:hover label.sk-toggleable__label {background-color: #d4ebff;}#sk-container-id-8 div.sk-serial::before {content: \"\";position: absolute;border-left: 1px solid gray;box-sizing: border-box;top: 0;bottom: 0;left: 50%;z-index: 0;}#sk-container-id-8 div.sk-serial {display: flex;flex-direction: column;align-items: center;background-color: white;padding-right: 0.2em;padding-left: 0.2em;position: relative;}#sk-container-id-8 div.sk-item {position: relative;z-index: 1;}#sk-container-id-8 div.sk-parallel {display: flex;align-items: stretch;justify-content: center;background-color: white;position: relative;}#sk-container-id-8 div.sk-item::before, #sk-container-id-8 div.sk-parallel-item::before {content: \"\";position: absolute;border-left: 1px solid gray;box-sizing: border-box;top: 0;bottom: 0;left: 50%;z-index: -1;}#sk-container-id-8 div.sk-parallel-item {display: flex;flex-direction: column;z-index: 1;position: relative;background-color: white;}#sk-container-id-8 div.sk-parallel-item:first-child::after {align-self: flex-end;width: 50%;}#sk-container-id-8 div.sk-parallel-item:last-child::after {align-self: flex-start;width: 50%;}#sk-container-id-8 div.sk-parallel-item:only-child::after {width: 0;}#sk-container-id-8 div.sk-dashed-wrapped {border: 1px dashed gray;margin: 0 0.4em 0.5em 0.4em;box-sizing: border-box;padding-bottom: 0.4em;background-color: white;}#sk-container-id-8 div.sk-label label {font-family: monospace;font-weight: bold;display: inline-block;line-height: 1.2em;}#sk-container-id-8 div.sk-label-container {text-align: center;}#sk-container-id-8 div.sk-container {/* jupyter's `normalize.less` sets `[hidden] { display: none; }` but bootstrap.min.css set `[hidden] { display: none !important; }` so we also need the `!important` here to be able to override the default hidden behavior on the sphinx rendered scikit-learn.org. See: https://github.com/scikit-learn/scikit-learn/issues/21755 */display: inline-block !important;position: relative;}#sk-container-id-8 div.sk-text-repr-fallback {display: none;}</style><div id=\"sk-container-id-8\" class=\"sk-top-container\"><div class=\"sk-text-repr-fallback\"><pre>LogisticRegression()</pre><b>In a Jupyter environment, please rerun this cell to show the HTML representation or trust the notebook. <br />On GitHub, the HTML representation is unable to render, please try loading this page with nbviewer.org.</b></div><div class=\"sk-container\" hidden><div class=\"sk-item\"><div class=\"sk-estimator sk-toggleable\"><input class=\"sk-toggleable__control sk-hidden--visually\" id=\"sk-estimator-id-8\" type=\"checkbox\" checked><label for=\"sk-estimator-id-8\" class=\"sk-toggleable__label sk-toggleable__label-arrow\">LogisticRegression</label><div class=\"sk-toggleable__content\"><pre>LogisticRegression()</pre></div></div></div></div></div>"
            ]
          },
          "metadata": {},
          "execution_count": 97
        }
      ]
    },
    {
      "cell_type": "markdown",
      "source": [
        "8. PREDICTION ON THE TEST SET"
      ],
      "metadata": {
        "id": "h3EdJppZq4Vh"
      }
    },
    {
      "cell_type": "code",
      "source": [
        "Y_pred = model.predict(X_test_scaled)"
      ],
      "metadata": {
        "id": "mf9-U-uOq4dK"
      },
      "execution_count": null,
      "outputs": []
    },
    {
      "cell_type": "markdown",
      "source": [
        "9. EVALUATE"
      ],
      "metadata": {
        "id": "8QIg8sQkq4km"
      }
    },
    {
      "cell_type": "code",
      "source": [
        "accuracy = accuracy_score(Y_test,Y_pred)\n",
        "conf_matrix = confusion_matrix(Y_test,Y_pred)\n",
        "class_report = classification_report(Y_test,Y_pred)\n",
        "\n",
        "print(f\"Accuracy: {accuracy * 100}%\")\n",
        "print(\" \")\n",
        "print(\" \")\n",
        "print(\"Confusion Matrix:\")\n",
        "print(conf_matrix)\n",
        "print(\" \")\n",
        "print(\" \")\n",
        "print(\"Class Report:\")\n",
        "print(class_report)"
      ],
      "metadata": {
        "colab": {
          "base_uri": "https://localhost:8080/"
        },
        "id": "ejMf5Ukuq4sR",
        "outputId": "6128d36f-1dd8-491f-c274-351de5093606"
      },
      "execution_count": null,
      "outputs": [
        {
          "output_type": "stream",
          "name": "stdout",
          "text": [
            "Accuracy: 99.9296435272045%\n",
            " \n",
            " \n",
            "Confusion Matrix:\n",
            "[[   0    6]\n",
            " [   0 8522]]\n",
            " \n",
            " \n",
            "Class Report:\n",
            "              precision    recall  f1-score   support\n",
            "\n",
            "       False       0.00      0.00      0.00         6\n",
            "        True       1.00      1.00      1.00      8522\n",
            "\n",
            "    accuracy                           1.00      8528\n",
            "   macro avg       0.50      0.50      0.50      8528\n",
            "weighted avg       1.00      1.00      1.00      8528\n",
            "\n"
          ]
        }
      ]
    },
    {
      "cell_type": "markdown",
      "source": [
        "\n",
        "\n",
        "---\n",
        "\n",
        "**10. CONCLUSION**\n",
        "\n",
        "In conclusion, the provided code builds a Logistic Regression model to predict whether a bank customer will subscribe to a long term deposit based on various features. The model can help identify customer segments most likely to subscribe. The bank can then tailor marketing campaigns towards these segments, focusing on features and benefits that resonate with their needs."
      ],
      "metadata": {
        "id": "sE8oFTflQqm6"
      }
    },
    {
      "cell_type": "markdown",
      "source": [
        "⠀⠀⠀⠀⠀⠀⠀⠀⠀⠀⠀⠀⠀⠀⠀⡠⠖⠀⠀⠀⠀⠀⠀⠀⠀⠀⠀⠀⠀⠀⠀⠀⠀⢀⡖⠀⡔⠀⠀⠀⠀⠀⠰⡰⡀⠀⠀⢳⣄⠀⠀⠐⠆⠀⠀⠀⠀⠀⠐⢆⠀⠀⠀⠀⠀\n",
        "⠀⠀⠀⠀⠀⢀⡔⠛⠛⢯⡉⠑⠒⡤⠊⠀⠀⠀⠀⠀⠀⡆⠀⠀⠀⣀⣀⡀⠤⠤⠤⠤⠤⠼⠤⢴⣃⡀⠀⠀⠀⠀⠀⢳⢱⡀⠀⠀⢳⡱⣄⠀⠀⠐⢄⠀⠀⠀⠀⠈⢣⠀⠀⠀⠀\n",
        "⠀⠀⠀⠀⢠⠋⠀⠀⣀⣀⢳⣠⠎⠀⠀⠀⠀⠀⠀⠀⠀⠃⠀⠈⠉⠀⠀⠀⠀⠀⠀⠀⠀⠀⠀⠀⠀⠈⠉⠒⠦⣄⠀⠈⡇⢣⠀⠀⠀⢣⠈⢦⠀⠀⠀⠑⢄⠀⠀⠀⠀⢣⡀⠀⠀\n",
        "⠀⠀⠀⢠⣃⠴⠊⠉⢀⡴⡻⢹⠘⠢⢄⣀⣀⠴⠂⠀⠀⠀⠀⠀⠀⠀⠀⠀⠀⠀⠀⠀⠀⠀⠀⠀⠀⠀⠀⠀⠀⠀⠙⠢⣱⠈⡇⠀⠀⠈⣇⠀⢷⡀⠀⠀⠈⠳⡀⠀⠀⠀⢳⡀⠀\n",
        "⠀⠀⢀⠏⠁⠀⠀⢠⠎⡰⠁⠘⡄⠀⣠⠞⠁⠀⠀⠀⠀⠀⠀⠀⠀⠀⠀⠀⠀⠀⠀⠀⠀⠀⠀⠀⠀⠀⠀⠀⠀⠀⠀⠀⠈⠳⣽⠀⠀⠀⢸⠀⢸⡵⡀⠀⠀⠀⠘⢆⠀⠀⠀⢣⠀\n",
        "⠀⠀⡜⠀⠀⠀⢠⠏⢰⡇⠀⠀⢑⠜⠁⠀⠀⠀⠀⠀⠀⠀⠀⠀⠠⠄⠒⠒⠒⠒⠂⠤⢄⣀⠀⠀⠀⠀⠀⠀⠀⠀⠀⠀⠀⠀⠈⠢⡀⠀⠈⡆⢸⢇⢱⡀⠀⠀⠀⠈⢦⠀⠀⠈⠀\n",
        "⠀⢠⠃⠀⠀⠀⡞⠀⣿⠁⠀⢠⠎⠀⠀⠀⠀⠀⠀⢀⡄⠀⠀⠀⠀⠀⠀⠄⠀⠀⠤⠤⣀⡈⠑⠢⣄⠀⠀⠀⠀⠀⠀⠀⠀⠀⠀⠀⠙⢄⠀⡇⢸⢸⠀⢧⠀⠀⠀⠀⠈⢧⣀⠴⠊\n",
        "⠀⠈⠀⠀⠀⢸⠁⢸⢸⠀⣰⠃⠀⠀⠀⠀⠀⠀⡴⠋⠀⢀⠀⠀⠀⠀⠀⠀⠀⠀⠀⠀⠀⠈⠑⠢⢄⠑⢄⠀⠀⠀⢦⠀⠀⠀⠀⠀⠀⠈⢦⡇⢸⠘⡄⠘⡆⠀⠀⣀⠴⠊⠁⢀⡰\n",
        "⠀⠀⠀⠀⠀⡇⠀⡎⢸⢠⠃⠀⠀⠀⠀⠀⢀⡞⠀⢠⠖⠁⠀⢤⡀⠀⡀⠀⠀⠀⠀⠀⠀⠀⠀⠀⠀⠉⠢⣵⣄⠀⠀⠳⡀⠀⠀⠀⠀⠀⠀⢳⡌⠀⡇⠀⢷⡠⠊⠁⠀⣠⡔⡏⡜\n",
        "⠀⠀⠀⠀⢸⠀⠀⡇⢸⡎⠀⠀⠀⠀⠀⢀⡎⠀⡴⠁⠀⠀⠀⠀⢹⢦⡈⠦⡀⠀⠀⠀⠀⠀⠀⠀⠀⠀⠀⠀⠙⢧⣄⠀⠹⡄⠀⠀⠀⠀⠀⠀⢻⣠⣃⡴⠋⠀⣠⠔⠊⠀⡇⢩⠞\n",
        "⠀⠀⠀⠀⡏⠀⠀⡇⡸⠀⠀⠀⠀⠀⠀⡞⠀⡜⠁⠀⠀⠀⠀⠀⢸⡆⠛⠦⡈⠢⣀⠀⠀⠀⠀⠀⠀⠀⠀⠀⠀⠀⠙⢆⠀⠘⡄⠀⠀⠀⠀⠀⠀⢻⡊⠀⣠⠊⠁⠀⠀⡜⢰⡇⠀\n",
        "⠀⠀⠀⢠⠃⠀⠀⣇⠇⠀⠀⠀⠀⠀⢰⠁⡸⠁⠀⠀⠀⠀⠀⠀⢸⠁⠀⠀⠈⠓⠬⡑⠤⣀⠀⠀⠀⠀⠀⠀⠀⠀⠀⠈⢣⠀⠹⡀⠀⠀⠀⠀⢠⡀⢣⡜⠁⠀⠀⠀⢰⢱⠃⢸⠀\n",
        "⠀⠀⠀⢸⠀⠀⠀⢹⢠⠀⠀⠀⠀⠀⢸⢠⠃⠀⠀⠀⠀⠀⠀⠀⢸⠀⠀⠀⠀⠀⠀⠈⠑⠲⠭⣲⡴⢖⣒⡆⠀⠀⠀⠀⠀⢧⠀⢳⠀⠀⠀⠀⠀⢧⠈⡆⠀⠀⠀⢠⢇⠇⠀⠸⠀\n",
        "⠀⠀⠀⡎⠀⠀⠀⡎⢸⠀⠀⠀⠀⠀⢿⡜⠀⠀⠀⠀⠀⠀⡀⠀⡞⠀⠀⠀⠀⠀⠀⠀⠀⠀⡜⠀⢉⡡⠞⠛⢭⣭⣥⠤⠤⠚⡆⠈⣦⠆⠀⠀⠀⠸⠀⢳⠀⠀⠀⡞⡞⠀⠀⠀⠀\n",
        "⠀⠀⠀⡇⠀⠀⢰⡇⢸⠀⠀⠀⠀⠀⢸⠇⠀⠀⠀⠀⠀⢠⡏⣸⠁⠀⠀⠀⠀⠀⠀⠀⠀⠀⠋⠉⠉⣠⠖⠋⠁⢀⣤⣤⣦⣔⣳⡾⢳⠀⠀⠀⠀⠀⡇⢸⣀⡠⠊⣼⢸⠀⠀⠀⠀\n",
        "⠀⠀⠀⡇⠀⠀⢸⡇⢸⠀⠀⠀⠀⠀⠸⡀⠀⠀⠀⠀⢀⡮⣵⠓⢠⡤⣀⠀⠀⠀⠀⠀⠀⠀⠀⠀⢸⡝⢀⣴⣯⣿⡿⣛⣿⣿⣻⡄⢸⠀⠀⠀⠀⢀⡇⠸⠣⣄⡜⠁⢸⠀⠀⠀⠀\n",
        "⠀⠀⠀⡇⠀⠀⡇⠇⢸⠀⠀⠀⠀⠀⠀⣇⠀⠀⠀⢴⣱⣷⣁⢤⣊⣀⡀⠙⠂⠀⠀⠀⠀⠀⠀⠀⠀⠀⣨⡿⠁⢿⣄⡿⠟⣸⡛⡇⡎⠀⠀⠀⠀⢸⣵⢐⣴⠋⠀⠀⠈⠀⠀⠀⠀\n",
        "⠯⣉⠀⠓⠒⠒⠃⢼⠸⡄⠀⠀⠀⠀⠀⠸⡀⠀⢀⣼⠏⡠⠞⠁⠀⠈⠙⠃⠀⠀⠀⠀⠀⠀⠀⠀⠀⠀⢸⠃⠀⠀⠐⣲⡾⠏⠀⣧⢣⠀⠀⠀⠀⡎⣿⣼⢸⡆⠀⠀⠀⠀⠀⠀⠀\n",
        "⠣⢌⡻⣍⣱⠒⡠⢼⠀⡇⠀⠀⠀⠀⠀⠀⢧⡠⠚⠁⠘⢁⣤⣶⣶⣶⣶⣄⡀⠀⠀⠀⠀⠀⠀⠀⠀⠀⠀⠀⠀⠀⠀⠀⠀⠀⢰⡟⢸⠀⠀⠀⢰⢹⡜⣿⣿⢣⠀⠀⠀⠀⠀⠀⠀\n",
        "⠀⠀⠉⢲⣄⡀⢣⡈⡇⢹⠀⠀⠀⠀⠀⢢⠘⡄⢄⣀⣠⣾⠟⢹⣏⡈⣿⡿⣿⠲⠀⠀⠀⠀⠀⠀⠀⠀⠀⠀⠀⠀⠀⠀⠀⠀⡼⠀⢸⠀⠀⢠⢃⡏⡇⡿⣹⢸⡀⠀⠀⠀⠀⠀⠀\n",
        "⠀⠀⠀⢸⣡⠉⡶⣍⢳⠀⣇⠀⠀⠀⠀⠈⣆⠻⣄⠀⠉⠙⢦⣀⠉⠹⠧⣤⡟⠀⠀⠀⠀⠀⠀⠀⠀⠀⠀⠀⠀⠀⠀⠀⠀⣰⠁⠀⢸⠀⣠⠃⡞⡇⡇⠀⡟⡞⠁⠀⠀⠀⠀⢀⠀\n",
        "⠀⠀⠀⠀⡿⠀⡇⠀⠹⡄⢸⡄⠀⠀⠀⠀⠘⡄⢣⠳⣄⠀⠀⠀⠋⠚⠙⠉⠁⠀⠀⠀⠀⣠⡀⠀⠀⠀⠀⠀⠀⠀⠀⠀⠀⠁⠀⠀⢸⡰⠁⡜⠁⡗⢸⠀⢹⠃⠀⠃⠀⠀⠀⠸⠀\n",
        "⠀⠀⠀⠀⢧⡇⠃⠀⠀⢳⠈⡿⡀⠀⠀⠀⠀⠘⣆⢳⡌⣢⡀⠀⠀⠀⠀⠀⠀⠀⠀⠀⠀⢯⣼⠀⠠⠀⠀⠀⠀⠀⠀⠀⠀⠀⠀⠀⠜⢁⡞⠀⢰⠃⣼⠀⢸⠀⠀⠀⠀⠀⠀⡇⠀\n",
        "⠀⠀⠀⠀⢸⢡⠀⠀⠀⠈⢧⢱⢱⡀⠀⠀⠀⠀⢹⢫⣫⡁⠑⢄⠀⠀⠀⠀⠀⠀⠀⠀⠀⠀⠀⠀⠀⠀⠀⠀⢀⡴⠃⠀⠀⠀⠀⠀⢀⡾⠁⠀⡜⢠⢻⠀⢸⠀⠠⠀⠀⠀⢠⠃⠀\n",
        "⠀⠀⠀⠀⠀⡇⠀⠀⠀⠀⠈⣎⢿⠙⣄⠀⠀⠀⠈⣿⢯⠳⣄⠈⠳⣄⠀⠀⠀⠀⠀⠀⠀⠀⠀⠀⠀⠤⠐⠊⠁⠀⠀⠀⠀⠀⠀⡰⠋⠀⠀⣼⢥⠏⡸⠀⡎⡄⠀⠀⠀⠀⡸⠀⠀\n",
        "⠀⠀⠀⠀⠀⢳⠀⠀⠀⠀⠀⢸⢞⣞⡞⢳⡀⠸⡄⠛⡌⣦⠏⠷⠄⠀⠑⠤⣀⠀⠀⠀⠀⠀⠀⠀⠀⠀⠀⠀⠀⠀⠀⠀⠀⣠⠞⠀⠀⣠⡾⡿⠋⢀⡇⢀⢧⠃⠀⠀⠀⠀⡇⠀⠀\n",
        "⠀⠀⠀⠀⠀⠸⡄⠀⠀⠀⠀⢸⢸⣿⣦⣞⠏⠢⣱⢀⢧⢹⠀⠀⠀⠀⠀⠀⠈⠉⠒⠒⠠⠤⠤⢀⣀⣀⣀⠀⠀⠀⢀⡠⠞⠁⢀⣠⣾⣿⢾⡀⠀⠘⠀⢸⡜⠀⠀⠀⠀⠘⠀⡸⠀\n",
        "⠀⠀⠀⠀⠀⠀⢇⠀⠀⠀⠀⢸⢸⠿⡫⠋⠀⠀⠈⡟⠈⡟⠀⠀⠀⠀⠀⠀⠀⠀⠀⠀⠀⠀⠀⠈⠻⢿⣿⢿⣿⠯⠥⠤⠒⣎⡿⢿⡿⠳⡀⠑⣄⠀⠀⣏⠃⠀⠀⠀⠀⠀⢠⠃⠀\n",
        "⠀⠀⠀⠀⠀⠀⢸⡀⠀⠀⠀⢸⡈⠉⠀⠀⠀⠀⠀⠇⠀⡇⠀⠀⠀⠀⠀⠀⠀⠀⠀⠀⠀⠀⠀⠀⠀⠀⠀⠉⢹⠍⢹⠉⢹⠀⠀⢀⣳⡄⠙⢄⠈⢢⣰⡻⠀⠀⠀⠀⠀⠀⡞⠀⠀\n",
        "⠀⠀⠀⠀⠀⠀⠘⣇⠀⠀⠀⢸⡇⠀⠀⠀⠀⠀⠀⠀⠀⡇⠀⠳⡄⠀⠀⠀⠀⠀⠀⠀⠀⠀⠀⠀⠀⠀⠀⠀⢸⡇⢸⠀⣸⠎⠉⠓⠢⢜⣆⠈⢣⡀⢹⠇⠀⠀⠀⠀⠀⢠⠃⠀⠀\n",
        "⠀⠀⠀⠀⠀⠀⠀⡿⡄⠀⠀⠀⡇⠀⠀⠀⠀⠀⠀⠀⠀⠇⠀⠀⠈⢦⡀⠀⠀⠀⠀⠀⠀⠀⠀⠀⠀⠀⠀⠀⢸⡃⢸⡴⢻⠀⣀⣠⣤⣶⣾⣧⡀⠑⡼⠀⠀⠀⠀⠀⠀⡸⠀⠀⠀\n",
        "⠀⠀⡆⠀⠀⠀⠀⢸⢣⠀⠀⠀⡇⠀⠀⠀⠀⠀⠀⠀⠀⠀⠀⠀⠀⠀⠑⢄⠀⠀⠀⠀⠀⠀⠀⠀⠀⠀⠀⠀⠀⣧⠟⡇⢸⣟⢿⡿⠿⠿⠿⠛⣷⣄⡇⠀⠀⠀⠀⠀⠀⡇⠀⡴⠀\n",
        "⠀⠀⢱⠀⠀⠀⠀⠈⡎⡆⠀⠀⡷⡄⠀⠀⠀⠀⠀⠀⠀⠀⠀⠀⠀⠀⠀⠀⠀⠀⠀⠀⠀⠀⠀⠀⠀⠀⠀⠀⠀⡇⠀⡇⢸⡇⠀⠀⣀⡠⠤⠖⠛⠚⡇⠀⢠⠀⠀⠀⢠⠃⢰⠃⠀"
      ],
      "metadata": {
        "id": "A6EMafLAVocb"
      }
    }
  ]
}