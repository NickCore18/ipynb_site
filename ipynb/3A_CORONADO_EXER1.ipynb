{
  "nbformat": 4,
  "nbformat_minor": 0,
  "metadata": {
    "colab": {
      "provenance": []
    },
    "kernelspec": {
      "name": "python3",
      "display_name": "Python 3"
    },
    "language_info": {
      "name": "python"
    }
  },
  "cells": [
    {
      "cell_type": "markdown",
      "source": [
        "# **Exercise 1: Propositional Logic in Python**"
      ],
      "metadata": {
        "id": "QqrdZztwtn4A"
      }
    },
    {
      "cell_type": "code",
      "execution_count": null,
      "metadata": {
        "colab": {
          "base_uri": "https://localhost:8080/"
        },
        "id": "O5FmxFjftMT5",
        "outputId": "a0d1b8cf-955f-4d00-9ce7-272e85244dde"
      },
      "outputs": [
        {
          "output_type": "stream",
          "name": "stdout",
          "text": [
            "The match will not light.\n"
          ]
        }
      ],
      "source": [
        "def evaluate_conditions(is_raining):\n",
        "    ground_is_wet = is_raining  # Q = P\n",
        "\n",
        "    match_will_light = not ground_is_wet\n",
        "\n",
        "    return match_will_light\n",
        "\n",
        "def main():\n",
        "    is_raining = True\n",
        "\n",
        "    if evaluate_conditions(is_raining):\n",
        "        print(\"The match will light.\")\n",
        "    else:\n",
        "        print(\"The match will not light.\")\n",
        "\n",
        "if __name__ == \"__main__\":\n",
        "    main()"
      ]
    },
    {
      "cell_type": "markdown",
      "source": [
        "# **Exercise 2: Predicate Logic Representation**"
      ],
      "metadata": {
        "id": "rG3ypqiytr2f"
      }
    },
    {
      "cell_type": "code",
      "source": [
        "def isHuman(person):\n",
        "    \"\"\"Check if the person is a human.\"\"\"\n",
        "    return person == \"Socrates\"\n",
        "\n",
        "def isMortal(person):\n",
        "    \"\"\"Check if the person is mortal based on the universal statement.\"\"\"\n",
        "    if isHuman(person):\n",
        "        return True\n",
        "    return False\n",
        "\n",
        "def main():\n",
        "    socrates = \"Socrates\"\n",
        "\n",
        "    if isMortal(socrates):\n",
        "        print(f\"{socrates} is mortal.\")\n",
        "    else:\n",
        "        print(f\"{socrates} is not mortal.\")\n",
        "\n",
        "if __name__ == \"__main__\":\n",
        "    main()"
      ],
      "metadata": {
        "colab": {
          "base_uri": "https://localhost:8080/"
        },
        "id": "PxKHoMtXt3Xp",
        "outputId": "4edd4ade-4305-464d-d0b4-5e9f244459f4"
      },
      "execution_count": null,
      "outputs": [
        {
          "output_type": "stream",
          "name": "stdout",
          "text": [
            "Socrates is mortal.\n"
          ]
        }
      ]
    },
    {
      "cell_type": "markdown",
      "source": [
        "# **Exercise 3: Inference Techniques in Logic-Based Systems**"
      ],
      "metadata": {
        "id": "6BY-fzA_t562"
      }
    },
    {
      "cell_type": "code",
      "source": [
        "class InferenceSystem:\n",
        "    def __init__(self):\n",
        "        self.rules = []\n",
        "        self.facts = []\n",
        "\n",
        "    def add_rule(self, premise, conclusion):\n",
        "        \"\"\"Add a rule to the system.\"\"\"\n",
        "        self.rules.append((premise, conclusion))\n",
        "\n",
        "    def add_fact(self, fact):\n",
        "        \"\"\"Add a fact to the system.\"\"\"\n",
        "        self.facts.append(fact)\n",
        "\n",
        "    def apply_modus_ponens(self):\n",
        "        \"\"\"Apply Modus Ponens to infer new facts.\"\"\"\n",
        "        new_facts = []\n",
        "        for premise, conclusion in self.rules:\n",
        "            if premise in self.facts:\n",
        "                new_facts.append(conclusion)\n",
        "        return new_facts\n",
        "\n",
        "    def run_inference(self):\n",
        "        \"\"\"Run the inference process and print the conclusions.\"\"\"\n",
        "        inferred_facts = self.apply_modus_ponens()\n",
        "        for fact in inferred_facts:\n",
        "            if fact not in self.facts:\n",
        "                self.facts.append(fact)\n",
        "                print(f\"Inferred: {fact}\")\n",
        "\n",
        "\n",
        "def main():\n",
        "    inference_system = InferenceSystem()\n",
        "\n",
        "    # Adding rules related to studying\n",
        "    inference_system.add_rule(\"I study regularly.\", \"I will improve my grades.\")\n",
        "    inference_system.add_rule(\"I improve my grades.\", \"I will feel more confident.\")\n",
        "    inference_system.add_rule(\"I review my notes.\", \"I will retain information better.\")\n",
        "\n",
        "    # Adding initial facts\n",
        "    inference_system.add_fact(\"I study regularly.\")\n",
        "    inference_system.add_fact(\"I review my notes.\")\n",
        "\n",
        "    print(\"Initial Facts:\")\n",
        "    for fact in inference_system.facts:\n",
        "        print(f\"- {fact}\")\n",
        "\n",
        "    print(\"\\nApplying Modus Ponens...\")\n",
        "    inference_system.run_inference()\n",
        "\n",
        "    print(\"\\nFinal Facts:\")\n",
        "    for fact in inference_system.facts:\n",
        "        print(f\"- {fact}\")\n",
        "\n",
        "if __name__ == \"__main__\":\n",
        "    main()"
      ],
      "metadata": {
        "colab": {
          "base_uri": "https://localhost:8080/"
        },
        "id": "iCImfB0TuQQH",
        "outputId": "19f05c31-a5ea-4616-e93e-3da599a439fe"
      },
      "execution_count": null,
      "outputs": [
        {
          "output_type": "stream",
          "name": "stdout",
          "text": [
            "Initial Facts:\n",
            "- I study regularly.\n",
            "- I review my notes.\n",
            "\n",
            "Applying Modus Ponens...\n",
            "Inferred: I will improve my grades.\n",
            "Inferred: I will retain information better.\n",
            "\n",
            "Final Facts:\n",
            "- I study regularly.\n",
            "- I review my notes.\n",
            "- I will improve my grades.\n",
            "- I will retain information better.\n"
          ]
        }
      ]
    },
    {
      "cell_type": "markdown",
      "source": [
        "# **Exercise 4: Hands-on Lab - Implementing a Logic-Based Model in Python**"
      ],
      "metadata": {
        "id": "i7sWyjRbuxe-"
      }
    },
    {
      "cell_type": "code",
      "source": [
        "is_hungry = True\n",
        "\n",
        "def reasoning_process():\n",
        "    global is_hungry\n",
        "\n",
        "    while is_hungry:\n",
        "        print(\"John is hungry.\")\n",
        "\n",
        "        print(\"John will eat.\")\n",
        "\n",
        "        eat()\n",
        "\n",
        "        if not is_hungry:\n",
        "            print(\"John is no longer hungry.\")\n",
        "            break\n",
        "\n",
        "def eat():\n",
        "    \"\"\"Simulate the action of eating.\"\"\"\n",
        "    global is_hungry\n",
        "    is_hungry = False\n",
        "\n",
        "def main():\n",
        "    print(\"Initial state:\")\n",
        "    if is_hungry:\n",
        "        print(\"John is hungry.\")\n",
        "    else:\n",
        "        print(\"John is not hungry.\")\n",
        "\n",
        "    reasoning_process()\n",
        "\n",
        "if __name__ == \"__main__\":\n",
        "    main()"
      ],
      "metadata": {
        "colab": {
          "base_uri": "https://localhost:8080/"
        },
        "id": "WZbCcZnzuywu",
        "outputId": "578cb12e-3331-4c31-b911-96525356eb8e"
      },
      "execution_count": null,
      "outputs": [
        {
          "output_type": "stream",
          "name": "stdout",
          "text": [
            "Initial state:\n",
            "John is hungry.\n",
            "John is hungry.\n",
            "John will eat.\n",
            "John is no longer hungry.\n"
          ]
        }
      ]
    },
    {
      "cell_type": "markdown",
      "source": [
        "# **Case Study Discussion**"
      ],
      "metadata": {
        "id": "OGIBiP0uxxf3"
      }
    },
    {
      "cell_type": "markdown",
      "source": [
        "## Planning Systems and Logic-Based Reasoning\n",
        "\n",
        "One prominent example of a logic-based planning system is STRIPS (Stanford Research Institute Problem Solver), developed in the 1970s. STRIPS uses **predicate logic** to represent actions and their effects, allowing for automated planning by defining a set of actions and conditions.\n",
        "\n",
        "### Application of Logic\n",
        "\n",
        "In STRIPS, actions are represented as operators with preconditions and effects. The preconditions specify the state of the world that must hold for the action to be applicable, while the effects describe how the world changes when the action is executed. These preconditions and effects are expressed using **predicate logic**.\n",
        "\n",
        "For example, consider a simple blocks world scenario where the goal is to stack blocks A and B on top of each other. The action \"pick up block A\" could be represented as:\n",
        "\n",
        "```\n",
        "Operator: Pick-up(x)\n",
        "  Precondition: Clear(x) ∧ On-Table(x) ∧ Holding(Nothing)\n",
        "  Effect: ¬On-Table(x) ∧ ¬Clear(x) ∧ Holding(x)\n",
        "```\n",
        "\n",
        "This operator states that to pick up a block x, the block must be clear (no other blocks on top of it), on the table, and the robot must not be holding anything. The effect of the action is that the block is no longer on the table, it is no longer clear, and the robot is now holding the block.\n",
        "\n",
        "STRIPS uses **backward chaining**, a form of goal-directed reasoning, to find a sequence of actions that achieves the desired goal state. It starts with the goal and works backward, applying operators whose effects match the goal, until a sequence of actions is found that transforms the initial state into the goal state.\n",
        "\n",
        "### Advantages of Logic-Based Planning\n",
        "\n",
        "1. **Formal Representation**: Predicate logic provides a precise and unambiguous way to represent actions and their effects, enabling automated reasoning and planning.\n",
        "\n",
        "2. **Generalization**: The logical representation allows for generalization, as actions can be applied to different objects as long as they satisfy the preconditions.\n",
        "\n",
        "3. **Explainability**: The logical reasoning process can be explained and understood, making it easier to debug and modify the planning system.\n",
        "\n",
        "### Challenges of Logic-Based Planning\n",
        "\n",
        "1. **Expressiveness**: While predicate logic is powerful, it may not be expressive enough to capture all the nuances and complexities of real-world planning problems.\n",
        "\n",
        "2. **Scalability**: As the problem size and complexity increase, the computational cost of logical reasoning can become prohibitive, leading to performance issues.\n",
        "\n",
        "3. **Uncertainty**: Logic-based planning assumes a deterministic world, but real-world environments often involve uncertainty and incomplete information, which can lead to suboptimal plans.\n",
        "\n",
        "4. **Knowledge Engineering**: Representing the world and actions in predicate logic requires significant effort and expertise, known as the knowledge engineering bottleneck.\n",
        "\n",
        "In conclusion, logic-based planning systems like STRIPS demonstrate the power of predicate logic in automated reasoning and problem-solving. While they offer advantages in terms of formal representation, generalization, and explainability, challenges remain in expressiveness, scalability, uncertainty handling, and knowledge engineering. Ongoing research aims to address these limitations and expand the applicability of logic-based planning in real-world scenarios.\n"
      ],
      "metadata": {
        "id": "xGE7tJ4zxwhn"
      }
    },
    {
      "cell_type": "markdown",
      "source": [
        "# **Assignment: Implement a Logic-Based Model in Python**"
      ],
      "metadata": {
        "id": "Q6x14PelvvBM"
      }
    },
    {
      "cell_type": "code",
      "source": [
        "class Chatbot:\n",
        "    def __init__(self):\n",
        "        self.rules = {\n",
        "            \"tired\": \"You should take a nap.\",\n",
        "            \"hungry\": \"You should have a meal.\",\n",
        "            \"relax\": \"You should read a book.\",\n",
        "            \"stressed\": \"You should go for a walk.\",\n",
        "            \"bored\": \"You should watch a movie.\",\n",
        "            \"time\": \"You should do a hobby.\"\n",
        "        }\n",
        "        self.user_inputs = []\n",
        "\n",
        "    def ask_questions(self):\n",
        "        print(\"Hello! I'm your decision-making assistant.\")\n",
        "        print(\"Please answer the following questions with 'yes' or 'no':\")\n",
        "\n",
        "        questions = {\n",
        "            \"tired\": \"Are you feeling tired?\",\n",
        "            \"hungry\": \"Are you feeling hungry?\",\n",
        "            \"relax\": \"Do you want to relax?\",\n",
        "            \"stressed\": \"Are you feeling stressed?\",\n",
        "            \"bored\": \"Are you feeling bored?\",\n",
        "            \"time\": \"Do you have time for a hobby?\"\n",
        "        }\n",
        "\n",
        "        for key, question in questions.items():\n",
        "            response = input(question + \" \").strip().lower()\n",
        "            if response == 'yes':\n",
        "                self.user_inputs.append(key)\n",
        "\n",
        "    def make_suggestions(self):\n",
        "        print(\"\\nBased on your responses, here are my suggestions:\")\n",
        "\n",
        "        if \"tired\" in self.user_inputs and \"stressed\" in self.user_inputs:\n",
        "            print(\"You should take a break and relax.\")\n",
        "\n",
        "        for input_key in self.user_inputs:\n",
        "            print(self.rules[input_key])\n",
        "\n",
        "        if not self.user_inputs:\n",
        "            print(\"It seems you don't need any suggestions right now!\")\n",
        "\n",
        "def main():\n",
        "    chatbot = Chatbot()\n",
        "    chatbot.ask_questions()\n",
        "    chatbot.make_suggestions()\n",
        "\n",
        "if __name__ == \"__main__\":\n",
        "    main()"
      ],
      "metadata": {
        "colab": {
          "base_uri": "https://localhost:8080/"
        },
        "id": "btjm3XP8v2eE",
        "outputId": "8177e57b-97a0-4f99-d60e-1a0d1384b7b8"
      },
      "execution_count": null,
      "outputs": [
        {
          "output_type": "stream",
          "name": "stdout",
          "text": [
            "Hello! I'm your decision-making assistant.\n",
            "Please answer the following questions with 'yes' or 'no':\n",
            "Are you feeling tired? no\n",
            "Are you feeling hungry? yes\n",
            "Do you want to relax? no\n",
            "Are you feeling stressed? yes\n",
            "Are you feeling bored? no\n",
            "Do you have time for a hobby? no\n",
            "\n",
            "Based on your responses, here are my suggestions:\n",
            "You should have a meal.\n",
            "You should go for a walk.\n"
          ]
        }
      ]
    }
  ]
}