{
  "nbformat": 4,
  "nbformat_minor": 0,
  "metadata": {
    "colab": {
      "provenance": []
    },
    "kernelspec": {
      "name": "python3",
      "display_name": "Python 3"
    },
    "language_info": {
      "name": "python"
    }
  },
  "cells": [
    {
      "cell_type": "markdown",
      "source": [
        "# **Machine Problem: Interactive Probability and Decision-Making in AI**"
      ],
      "metadata": {
        "id": "CxmGwJhNEO0Z"
      }
    },
    {
      "cell_type": "markdown",
      "source": [
        "# Part 1: Implement Basic Probability Calculations"
      ],
      "metadata": {
        "id": "QN_jD7xUEUxA"
      }
    },
    {
      "cell_type": "code",
      "execution_count": 1,
      "metadata": {
        "id": "btaobLGhENbq"
      },
      "outputs": [],
      "source": [
        "def joint_probability(prob_A, prob_B):\n",
        "    return prob_A * prob_B\n",
        "\n",
        "def marginal_probability(prob_A, prob_B):\n",
        "    return prob_A + prob_B - joint_probability(prob_A, prob_B)\n",
        "\n",
        "def conditional_probability(prob_B_given_A, prob_A, prob_B):\n",
        "    return (prob_B_given_A * prob_A) / prob_B"
      ]
    },
    {
      "cell_type": "code",
      "source": [
        "def main():\n",
        "    prob_A = float(input(\"Enter probability of event A: \"))\n",
        "    prob_B = float(input(\"Enter probability of event B: \"))\n",
        "    prob_B_given_A = float(input(\"Enter probability of B given A: \"))\n",
        "\n",
        "    joint_prob = joint_probability(prob_A, prob_B)\n",
        "    marginal_prob = marginal_probability(prob_A, prob_B)\n",
        "    conditional_prob = conditional_probability(prob_B_given_A, prob_A, prob_B)\n",
        "\n",
        "    print(f\"\\nJoint Probability: {joint_prob}\")\n",
        "    print(f\"Marginal Probability: {marginal_prob}\")\n",
        "    print(f\"Conditional Probability: {conditional_prob}\")\n",
        "\n",
        "if __name__ == \"__main__\":\n",
        "    main()"
      ],
      "metadata": {
        "colab": {
          "base_uri": "https://localhost:8080/"
        },
        "id": "x-6DC7GkF9WA",
        "outputId": "ad9c9d55-6143-4bc2-ca1b-f600b26b1f6d"
      },
      "execution_count": 2,
      "outputs": [
        {
          "output_type": "stream",
          "name": "stdout",
          "text": [
            "Enter probability of event A: 0.3\n",
            "Enter probability of event B: 0.4\n",
            "Enter probability of B given A: 0.8\n",
            "\n",
            "Joint Probability: 0.12\n",
            "Marginal Probability: 0.58\n",
            "Conditional Probability: 0.6\n"
          ]
        }
      ]
    },
    {
      "cell_type": "markdown",
      "source": [
        "# Part 2: Bayesian Inference for Real-World Scenarios"
      ],
      "metadata": {
        "id": "RefXfEU1GbKP"
      }
    },
    {
      "cell_type": "code",
      "source": [
        "def bayesian_inference(prior_prob, likelihood_positive_given_disease, overall_positive_prob):\n",
        "    return (likelihood_positive_given_disease * prior_prob) / overall_positive_prob"
      ],
      "metadata": {
        "id": "Gc8IHF1qGZLB"
      },
      "execution_count": 3,
      "outputs": []
    },
    {
      "cell_type": "code",
      "source": [
        "def main():\n",
        "    prior_prob = float(input(\"Enter the prior probability of disease: \"))\n",
        "    likelihood_positive_given_disease = float(input(\"Enter the likelihood of a positive test given disease: \"))\n",
        "    overall_positive_prob = float(input(\"Enter the overall probability of a positive test: \"))\n",
        "\n",
        "    posterior_prob = bayesian_inference(prior_prob, likelihood_positive_given_disease, overall_positive_prob)\n",
        "\n",
        "    print(f\"\\nPosterior Probability of disease given positive test: {posterior_prob:.2f}\")\n",
        "\n",
        "if __name__ == \"__main__\":\n",
        "    main()"
      ],
      "metadata": {
        "colab": {
          "base_uri": "https://localhost:8080/"
        },
        "id": "ZyeOFfXqGdvQ",
        "outputId": "b0c78f04-7d37-40f1-e0a3-66fc5394508f"
      },
      "execution_count": 6,
      "outputs": [
        {
          "output_type": "stream",
          "name": "stdout",
          "text": [
            "Enter the prior probability of disease: 0.01\n",
            "Enter the likelihood of a positive test given disease: 0.9\n",
            "Enter the overall probability of a positive test: 0.05\n",
            "\n",
            "Posterior Probability of disease given positive test: 0.18\n"
          ]
        }
      ]
    },
    {
      "cell_type": "markdown",
      "source": [
        "# Part 3: Simulate Decision-Making Under Uncertainty"
      ],
      "metadata": {
        "id": "sIPfy5FTGqoY"
      }
    },
    {
      "cell_type": "code",
      "source": [
        "import random\n",
        "\n",
        "def simulate_decision(prob_success, reward, penalty, num_trials):\n",
        "    total_return = 0\n",
        "    for _ in range(num_trials):\n",
        "        if random.random() < prob_success:\n",
        "            total_return += reward\n",
        "        else:\n",
        "            total_return += penalty\n",
        "    return total_return / num_trials\n",
        "\n",
        ""
      ],
      "metadata": {
        "id": "ui6l6w5IGrW_"
      },
      "execution_count": 7,
      "outputs": []
    },
    {
      "cell_type": "code",
      "source": [
        "def main():\n",
        "    prob_success = float(input(\"Enter the probability of success: \"))\n",
        "    reward = float(input(\"Enter the reward for success: \"))\n",
        "    penalty = float(input(\"Enter the penalty for failure: \"))\n",
        "    num_trials = int(input(\"Enter the number of trials to simulate: \"))\n",
        "\n",
        "    average_return = simulate_decision(prob_success, reward, penalty, num_trials)\n",
        "\n",
        "    print(f\"\\nAverage return: {average_return:.2f}\")\n",
        "\n",
        "if __name__ == \"__main__\":\n",
        "    main()"
      ],
      "metadata": {
        "colab": {
          "base_uri": "https://localhost:8080/"
        },
        "id": "ChOzjbYUGvtH",
        "outputId": "e27b2d31-04b0-44a0-b7d5-e5b2e3244a55"
      },
      "execution_count": 8,
      "outputs": [
        {
          "output_type": "stream",
          "name": "stdout",
          "text": [
            "Enter the probability of success: 0.7\n",
            "Enter the reward for success: 1000\n",
            "Enter the penalty for failure: -500\n",
            "Enter the number of trials to simulate: 1000\n",
            "\n",
            "Average return: 554.50\n"
          ]
        }
      ]
    },
    {
      "cell_type": "markdown",
      "source": [
        "# Part 4: Visualize Probability Distributions"
      ],
      "metadata": {
        "id": "4vKdVJ-_HBma"
      }
    },
    {
      "cell_type": "code",
      "source": [
        "import numpy as np\n",
        "import matplotlib.pyplot as plt\n",
        "import requests\n",
        "from PIL import Image\n",
        "from io import BytesIO"
      ],
      "metadata": {
        "id": "kojToQZMH0Eo"
      },
      "execution_count": 9,
      "outputs": []
    },
    {
      "cell_type": "code",
      "source": [
        "def simulate_binomial(n, p):\n",
        "    return np.random.binomial(n, p, size=n)\n",
        "\n",
        "def simulate_normal(n, mean, std):\n",
        "    return np.random.normal(mean, std, size=n)\n",
        "\n",
        "def plot_histogram(data, title):\n",
        "    plt.figure(figsize=(10, 8), facecolor='#ffcc5f')\n",
        "    plt.hist(data, bins=30, edgecolor='black', color='skyblue')  # Added color to histogram\n",
        "\n",
        "    plt.title(title, fontsize=16, weight='bold', color='#964B00')\n",
        "    plt.xlabel('Value', fontsize=14, color='#964B00')\n",
        "    plt.ylabel('Frequency', fontsize=14, color='#964B00')"
      ],
      "metadata": {
        "id": "qcp08MAYH1qZ"
      },
      "execution_count": 21,
      "outputs": []
    },
    {
      "cell_type": "code",
      "source": [
        "plt.show()\n",
        "\n",
        "def main():\n",
        "    print(\"Choose a distribution to simulate:\")\n",
        "    print(\"1. Binomial (Coin flips)\")\n",
        "    print(\"2. Normal (Exam scores)\")\n",
        "\n",
        "    choice = int(input(\"Enter your choice (1 or 2): \"))\n",
        "    num_trials = int(input(\"Enter the number of trials: \"))\n",
        "\n",
        "    if choice == 1:\n",
        "        prob_heads = float(input(\"Enter the probability of heads (for binomial): \"))\n",
        "        data = simulate_binomial(num_trials, prob_heads)\n",
        "        print(\"Generating histogram... \")\n",
        "        plot_histogram(data, 'Binomial Distribution (Coin Flips)')\n",
        "    elif choice == 2:\n",
        "        mean = float(input(\"Enter the mean (for normal distribution): \"))\n",
        "        std = float(input(\"Enter the standard deviation (for normal distribution): \"))\n",
        "        data = simulate_normal(num_trials, mean, std)\n",
        "        print(\"Generating histogram... \")\n",
        "        plot_histogram(data, 'Normal Distribution (Exam Scores)')\n",
        "    else:\n",
        "        print(\"Invalid choice. Please try again.\")\n",
        "\n",
        "if __name__ == \"__main__\":\n",
        "    main()"
      ],
      "metadata": {
        "colab": {
          "base_uri": "https://localhost:8080/",
          "height": 847
        },
        "id": "_0-y8PWBICeI",
        "outputId": "ae0ac3e9-7929-4951-b47e-e81787302afe"
      },
      "execution_count": 22,
      "outputs": [
        {
          "output_type": "stream",
          "name": "stdout",
          "text": [
            "Choose a distribution to simulate:\n",
            "1. Binomial (Coin flips)\n",
            "2. Normal (Exam scores)\n",
            "Enter your choice (1 or 2): 1\n",
            "Enter the number of trials: 1000\n",
            "Enter the probability of heads (for binomial): 0.5\n",
            "Generating histogram... \n"
          ]
        },
        {
          "output_type": "display_data",
          "data": {
            "text/plain": [
              "<Figure size 1000x800 with 1 Axes>"
            ],
            "image/png": "[encoded data removed]"
          },
          "metadata": {}
        }
      ]
    }
  ]
}